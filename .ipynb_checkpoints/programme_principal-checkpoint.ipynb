{
 "cells": [
  {
   "cell_type": "code",
   "execution_count": 1,
   "metadata": {
    "scrolled": false
   },
   "outputs": [],
   "source": [
<<<<<<< Updated upstream
=======
<<<<<<< Updated upstream
    "from dessinMSDA import *\n",
    "window = Screen()\n",
    "# hideturtle()\n",
    "setheading(0)\n",
    "trapeze(60, 40, 20, 40)\n",
    "window.exitonclick()"
=======
>>>>>>> Stashed changes
    "# from dessinMSDA import *\n",
    "# window = Screen()\n",
    "# # hideturtle()\n",
    "# setheading(0)\n",
    "# trapeze(60, 40, 20, 40)\n",
    "# window.exitonclick()"
   ]
  },
  {
   "cell_type": "code",
   "execution_count": 2,
   "metadata": {
    "scrolled": false
   },
   "outputs": [],
   "source": [
<<<<<<< Updated upstream
<<<<<<< Updated upstream
    "from fusee import fusee\n",
    "from figure_choix import figure_choix\n",
    "fusee()"
=======
=======
>>>>>>> Stashed changes
    "# from fusee import fusee\n",
    "# from figure_choix import figure_choix\n",
    "from maison2 import maison\n",
    "# fusee()"
   ]
  },
  {
   "cell_type": "code",
   "execution_count": 3,
   "metadata": {},
   "outputs": [],
   "source": [
    "# figure_choix()"
<<<<<<< Updated upstream
>>>>>>> Stashed changes
>>>>>>> Stashed changes
=======
>>>>>>> Stashed changes
   ]
  },
  {
   "cell_type": "code",
   "execution_count": null,
   "metadata": {},
   "outputs": [],
<<<<<<< Updated upstream
   "source": [
    "maison()"
   ]
=======
<<<<<<< Updated upstream
   "source": []
=======
   "source": [
    "maison()"
   ]
>>>>>>> Stashed changes
>>>>>>> Stashed changes
  }
 ],
 "metadata": {
  "kernelspec": {
   "display_name": "Python 3",
   "language": "python",
   "name": "python3"
  },
  "language_info": {
   "codemirror_mode": {
    "name": "ipython",
    "version": 3
   },
   "file_extension": ".py",
   "mimetype": "text/x-python",
   "name": "python",
   "nbconvert_exporter": "python",
   "pygments_lexer": "ipython3",
   "version": "3.7.6"
  }
 },
 "nbformat": 4,
 "nbformat_minor": 4
}
