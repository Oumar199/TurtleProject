{
 "cells": [
  {
   "cell_type": "code",
   "execution_count": 1,
   "metadata": {},
   "outputs": [
    {
     "ename": "SyntaxError",
     "evalue": "import * only allowed at module level (Test.py, line 50)",
     "output_type": "error",
     "traceback": [
      "Traceback \u001b[1;36m(most recent call last)\u001b[0m:\n",
      "  File \u001b[0;32m\"C:\\Users\\Oumar Kane\\anaconda3\\lib\\site-packages\\IPython\\core\\interactiveshell.py\"\u001b[0m, line \u001b[0;32m3331\u001b[0m, in \u001b[0;35mrun_code\u001b[0m\n    exec(code_obj, self.user_global_ns, self.user_ns)\n",
      "\u001b[1;36m  File \u001b[1;32m\"<ipython-input-1-0712144c6ac4>\"\u001b[1;36m, line \u001b[1;32m2\u001b[1;36m, in \u001b[1;35m<module>\u001b[1;36m\u001b[0m\n\u001b[1;33m    from Test import *\u001b[0m\n",
      "\u001b[1;36m  File \u001b[1;32m\"C:\\Users\\Oumar Kane\\Documents\\github\\TurtleProject\\Test.py\"\u001b[1;36m, line \u001b[1;32m50\u001b[0m\n\u001b[1;33m    def al_kashi(cote_1, cote_2, cote_3):\u001b[0m\n\u001b[1;37m                                         ^\u001b[0m\n\u001b[1;31mSyntaxError\u001b[0m\u001b[1;31m:\u001b[0m import * only allowed at module level\n"
     ]
    }
   ],
   "source": [
    "# turtle.color(\"black\")\n",
    "from Test import *\n",
    "fillcolor(\"red\")\n",
    "rayon = 50\n",
    "carre(100)\n",
    "fillcolor(\"yellow\")\n",
    "cercle(rayon)\n",
    "set_move(xcor(), ycor() + 2*rayon); set_move(xcor(), ycor() + rayon)\n",
    "setheading(90)\n",
    "fillcolor(\"green\")\n",
    "demi_cercle(rayon)\n",
    "fillcolor(\"grey\")\n",
    "set_move((xcor() + rayon*2, ycor()))\n",
    "polygone(rayon, 3)\n",
    "fillcolor(\"pink\")\n",
    "set_move(0, 0)\n",
    "setheading(0)\n",
    "right(90)\n",
    "fillcolor(\"pink\")\n",
    "rectangle(50, 30)\n",
    "# hideturtle()\n",
    "set_move(window_width()/2-rayon*2, 0)\n",
    "fillcolor(\"blue\")\n",
    "elipse(rayon)\n",
    "set_move(0, -40)\n",
    "fillcolor(\"yellow\")\n",
    "setheading(0)\n",
    "# pensize(20)\n",
    "triangle(60, 50, 30, False)\n",
    "set_move(0, window_height()/2 -60)\n",
    "fillcolor(\"violet\")\n",
    "setheading(80)\n",
    "losange(40, 60)\n",
    "set_move(-100, window_height()/2 -60)\n",
    "setheading(0)\n",
    "trapeze(70*1.5, 40, 35*1.5, 50)\n",
    "hideturtle()\n",
    "window.exitonclick()"
   ]
  },
  {
   "cell_type": "code",
   "execution_count": null,
   "metadata": {},
   "outputs": [],
   "source": [
    "degrees(acos(3/4))"
   ]
  },
  {
   "cell_type": "code",
   "execution_count": null,
   "metadata": {},
   "outputs": [],
   "source": []
  }
 ],
 "metadata": {
  "kernelspec": {
   "display_name": "Python 3",
   "language": "python",
   "name": "python3"
  },
  "language_info": {
   "codemirror_mode": {
    "name": "ipython",
    "version": 3
   },
   "file_extension": ".py",
   "mimetype": "text/x-python",
   "name": "python",
   "nbconvert_exporter": "python",
   "pygments_lexer": "ipython3",
   "version": "3.7.6"
  }
 },
 "nbformat": 4,
 "nbformat_minor": 4
}
