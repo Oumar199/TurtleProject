{
 "cells": [
  {
   "cell_type": "code",
   "execution_count": 1,
   "metadata": {},
   "outputs": [
    {
     "name": "stdout",
     "output_type": "stream",
     "text": [
      "29.926434866614244 93.82255372927435\n"
     ]
    }
   ],
   "source": [
    "from Test import *\n",
    "# turtle.color(\"black\")\n",
    "fillcolor(\"red\")\n",
    "rayon = 50\n",
    "carre(100)\n",
    "fillcolor(\"yellow\")\n",
    "cercle(rayon)\n",
    "set_move(xcor(), ycor() + 2*rayon); set_move(xcor(), ycor() + rayon)\n",
    "setheading(90)\n",
    "fillcolor(\"green\")\n",
    "demi_cercle(rayon)\n",
    "fillcolor(\"grey\")\n",
    "set_move((xcor() + rayon*2, ycor()))\n",
    "polygone(rayon, 3)\n",
    "fillcolor(\"pink\")\n",
    "set_move(0, 0)\n",
    "setheading(0)\n",
    "right(90)\n",
    "fillcolor(\"pink\")\n",
    "rectangle(50, 30)\n",
    "# hideturtle()\n",
    "set_move(window_width()/2-rayon*2, 0)\n",
    "fillcolor(\"blue\")\n",
    "elipse(rayon)\n",
    "set_move(0, -40)\n",
    "fillcolor(\"yellow\")\n",
    "setheading(0)\n",
    "# pensize(20)\n",
    "triangle(60, 50, 30, False)\n",
    "set_move(0, window_height()/2 -60)\n",
    "fillcolor(\"violet\")\n",
    "setheading(80)\n",
    "losange(40, 60)\n",
    "hideturtle()\n",
    "window.exitonclick()"
   ]
  },
  {
   "cell_type": "code",
   "execution_count": 2,
   "metadata": {},
   "outputs": [
    {
     "data": {
      "text/plain": [
       "41.40962210927086"
      ]
     },
     "execution_count": 2,
     "metadata": {},
     "output_type": "execute_result"
    }
   ],
   "source": [
    "degrees(acos(3/4))"
   ]
  },
  {
   "cell_type": "code",
   "execution_count": null,
   "metadata": {},
   "outputs": [],
   "source": []
  }
 ],
 "metadata": {
  "kernelspec": {
   "display_name": "Python 3",
   "language": "python",
   "name": "python3"
  },
  "language_info": {
   "codemirror_mode": {
    "name": "ipython",
    "version": 3
   },
   "file_extension": ".py",
   "mimetype": "text/x-python",
   "name": "python",
   "nbconvert_exporter": "python",
   "pygments_lexer": "ipython3",
   "version": "3.7.6"
  }
 },
 "nbformat": 4,
 "nbformat_minor": 4
}
